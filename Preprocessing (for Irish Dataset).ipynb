{
 "cells": [
  {
   "cell_type": "code",
   "execution_count": 1,
   "metadata": {},
   "outputs": [],
   "source": [
    "# **Imports and Constants**"
   ]
  },
  {
   "cell_type": "code",
   "execution_count": 2,
   "metadata": {},
   "outputs": [],
   "source": [
    "# imports\n",
    "from __future__ import print_function\n",
    "from pyspark import SparkContext\n",
    "from pyspark.ml.clustering import KMeans\n",
    "from pyspark.ml.evaluation import ClusteringEvaluator\n",
    "from pyspark.ml.feature import VectorAssembler\n",
    "from pyspark.sql import SQLContext\n",
    "from pyspark.sql import SparkSession\n",
    "from mpl_toolkits.mplot3d import Axes3D\n",
    "from pyspark.sql.functions import col\n",
    "from functools import reduce\n",
    "from pyspark import SQLContext\n",
    "from pyspark.sql import SparkSession\n",
    "from pyspark.sql.types import ArrayType, IntegerType\n",
    "from pyspark.sql.functions import col, split, size, isnan, array_contains, array_min, when, count\n",
    "from pyspark.sql.types import StructType, StructField, TimestampType, StringType, FloatType\n",
    "import pyspark.sql.functions as f\n",
    "import matplotlib.pyplot as plt\n",
    "import pandas as pd\n",
    "import glob\n",
    "import re\n",
    "import pathlib\n",
    "import json\n",
    "import datetime as dt\n",
    "import numpy as np\n",
    "import os\n",
    "import random\n",
    "import statistics\n",
    "import platform"
   ]
  },
  {
   "cell_type": "code",
   "execution_count": 3,
   "metadata": {},
   "outputs": [],
   "source": [
    "# paths\n",
    "DATASET_PATH = '/Users/Soroush/Desktop/Thesis/Code/Datasets/Irish/CER Electricity Revised March 2012/'\n",
    "\n",
    "# BASE_PATH=pathlib.Path().absolute()\n",
    "# KMEANS_REL_PATH=\"kmeans models\"\n",
    "# DATASET_REL_PATH=\"dataset\"\n",
    "# DATASET_PATH=os.path.join(BASE_PATH,DATASET_REL_PATH)\n",
    "# KMEANS_PATH=os.path.join(BASE_PATH,KMEANS_REL_PATH)\n",
    "\n",
    "# from google.colab import drive\n",
    "# drive.mount('/gdrive')"
   ]
  },
  {
   "cell_type": "code",
   "execution_count": 4,
   "metadata": {},
   "outputs": [
    {
     "name": "stdout",
     "output_type": "stream",
     "text": [
      "env: PYSPARK_DRIVER_PYTHON=python3.6\n",
      "env: PYSPARK_PYTHON=python3.6\n",
      "env: ARROW_PRE_0_15_IPC_FORMAT=1\n"
     ]
    }
   ],
   "source": [
    "# env variables\n",
    "if platform.system() == 'Windows':\n",
    "    %env PYSPARK_DRIVER_PYTHON = python\n",
    "    %env PYSPARK_PYTHON = python\n",
    "elif platform.system() == 'Linux':\n",
    "    %env PYSPARK_DRIVER_PYTHON = python\n",
    "    %env PYSPARK_PYTHON = python3\n",
    "else:\n",
    "    %env PYSPARK_DRIVER_PYTHON = python3.6\n",
    "    %env PYSPARK_PYTHON = python3.6\n",
    "\n",
    "# incompatibility with Pyarrow\n",
    "# need to install Pyarrow 0.14.1 or lower or Set the environment variable ARROW_PRE_0_15_IPC_FORMAT=1\n",
    "%env ARROW_PRE_0_15_IPC_FORMAT = 1"
   ]
  },
  {
   "cell_type": "code",
   "execution_count": 5,
   "metadata": {},
   "outputs": [
    {
     "name": "stdout",
     "output_type": "stream",
     "text": [
      "<class 'pandas.core.frame.DataFrame'>\n",
      "RangeIndex: 157992996 entries, 0 to 157992995\n",
      "Data columns (total 3 columns):\n",
      " #   Column  Dtype  \n",
      "---  ------  -----  \n",
      " 0   id      int64  \n",
      " 1   date    int64  \n",
      " 2   power   float64\n",
      "dtypes: float64(1), int64(2)\n",
      "memory usage: 3.5 GB\n",
      "None\n"
     ]
    }
   ],
   "source": [
    "# create appropriate dataset\n",
    "# load\n",
    "\n",
    "\n",
    "def load_irish_dataset(dataset_path):\n",
    "\n",
    "    #data_column_names = [\"id\", \"date\", \"power\"]\n",
    "    #all_data = pd.DataFrame(columns = data_column_names)\n",
    "\n",
    "    all_data = pd.DataFrame({'id': pd.Series([], dtype='int'),\n",
    "                             'date': pd.Series([], dtype='int'),\n",
    "                             'power': pd.Series([], dtype='float')})\n",
    "\n",
    "    files = glob.glob(dataset_path + \"File*.txt\")\n",
    "    for file in files:\n",
    "        # print(file)\n",
    "        data = pd.read_csv(file, sep=\" \", header=None)\n",
    "        data.columns = [\"id\", \"date\", \"power\"]\n",
    "        # print(data.info())\n",
    "        all_data = all_data.append(data, ignore_index=True)\n",
    "\n",
    "    # save\n",
    "    return all_data\n",
    "\n",
    "\n",
    "dataset = load_irish_dataset(DATASET_PATH)\n",
    "print(dataset.info())"
   ]
  },
  {
   "cell_type": "code",
   "execution_count": 6,
   "metadata": {},
   "outputs": [
    {
     "name": "stdout",
     "output_type": "stream",
     "text": [
      "<class 'pandas.core.frame.DataFrame'>\n",
      "RangeIndex: 157992996 entries, 0 to 157992995\n",
      "Data columns (total 3 columns):\n",
      " #   Column  Dtype         \n",
      "---  ------  -----         \n",
      " 0   id      int64         \n",
      " 1   date    datetime64[ns]\n",
      " 2   power   float64       \n",
      "dtypes: datetime64[ns](1), float64(1), int64(1)\n",
      "memory usage: 3.5 GB\n",
      "None\n"
     ]
    },
    {
     "data": {
      "text/html": [
       "<div>\n",
       "<style scoped>\n",
       "    .dataframe tbody tr th:only-of-type {\n",
       "        vertical-align: middle;\n",
       "    }\n",
       "\n",
       "    .dataframe tbody tr th {\n",
       "        vertical-align: top;\n",
       "    }\n",
       "\n",
       "    .dataframe thead th {\n",
       "        text-align: right;\n",
       "    }\n",
       "</style>\n",
       "<table border=\"1\" class=\"dataframe\">\n",
       "  <thead>\n",
       "    <tr style=\"text-align: right;\">\n",
       "      <th></th>\n",
       "      <th>id</th>\n",
       "      <th>date</th>\n",
       "      <th>power</th>\n",
       "    </tr>\n",
       "  </thead>\n",
       "  <tbody>\n",
       "    <tr>\n",
       "      <th>0</th>\n",
       "      <td>2113</td>\n",
       "      <td>2009-07-15 15:00:00</td>\n",
       "      <td>0.038</td>\n",
       "    </tr>\n",
       "    <tr>\n",
       "      <th>1</th>\n",
       "      <td>2113</td>\n",
       "      <td>2009-07-15 15:30:00</td>\n",
       "      <td>0.125</td>\n",
       "    </tr>\n",
       "    <tr>\n",
       "      <th>2</th>\n",
       "      <td>2113</td>\n",
       "      <td>2009-07-14 00:30:00</td>\n",
       "      <td>0.189</td>\n",
       "    </tr>\n",
       "    <tr>\n",
       "      <th>3</th>\n",
       "      <td>2113</td>\n",
       "      <td>2009-07-14 01:00:00</td>\n",
       "      <td>0.139</td>\n",
       "    </tr>\n",
       "    <tr>\n",
       "      <th>4</th>\n",
       "      <td>2113</td>\n",
       "      <td>2009-07-14 01:30:00</td>\n",
       "      <td>0.149</td>\n",
       "    </tr>\n",
       "  </tbody>\n",
       "</table>\n",
       "</div>"
      ],
      "text/plain": [
       "     id                date  power\n",
       "0  2113 2009-07-15 15:00:00  0.038\n",
       "1  2113 2009-07-15 15:30:00  0.125\n",
       "2  2113 2009-07-14 00:30:00  0.189\n",
       "3  2113 2009-07-14 01:00:00  0.139\n",
       "4  2113 2009-07-14 01:30:00  0.149"
      ]
     },
     "execution_count": 6,
     "metadata": {},
     "output_type": "execute_result"
    }
   ],
   "source": [
    "# date column\n",
    "def create_date_column(dataset):\n",
    "\n",
    "    def code_to_datetime(code):\n",
    "        output = list(map(int, str(code)))\n",
    "        day_code = int(output[0]*100+output[1]*10+output[2])\n",
    "        time_code = int(output[3]*10+output[4])\n",
    "        # unixtime in 1 January 2009 00:00:00 is 1230768000\n",
    "        unixtime = 1230768000+(day_code-1)*86400+time_code*1800\n",
    "        #dt = time.ctime(unixtime)\n",
    "        out = dt.datetime.utcfromtimestamp(\n",
    "            unixtime).strftime('%Y-%m-%d %H:%M:%S')\n",
    "        return out\n",
    "\n",
    "    # code_to_datetime(19941)\n",
    "    dataset['date'] = dataset['date'].apply(code_to_datetime)\n",
    "    dataset['date'] = pd.to_datetime(dataset['date'])\n",
    "    return dataset\n",
    "\n",
    "\n",
    "dataset = create_date_column(dataset)\n",
    "print(dataset.info())\n",
    "dataset.head()"
   ]
  },
  {
   "cell_type": "code",
   "execution_count": null,
   "metadata": {},
   "outputs": [],
   "source": [
    "# aggregate data\n",
    "def agg_by_date(temp):\n",
    "    temp = temp.set_index('date')\n",
    "    temp = temp.groupby(temp['id']).resample(\n",
    "        '60T').mean()  # to 1 hour sampling rate\n",
    "    temp = temp.reset_index(level='id', drop=True)\n",
    "    temp = temp.groupby(temp['id']).resample('D').aggregate(\n",
    "        {'power': lambda x: x.tolist()})  # to 1 day list\n",
    "    temp = temp.reset_index()\n",
    "    temp.id = temp.id.astype(int)\n",
    "    return temp\n",
    "\n",
    "\n",
    "aggregated_dataset = agg_by_date(dataset)\n",
    "print(aggregated_dataset.info())\n",
    "aggregated_dataset.head(10)"
   ]
  },
  {
   "cell_type": "code",
   "execution_count": null,
   "metadata": {},
   "outputs": [],
   "source": [
    "# save\n",
    "aggregated_dataset.to_pickle(DATASET_PATH+\"irish_aggregated_dataset.pkl\")\n",
    "\n",
    "#load\n",
    "#aggregated_dataset=pd.read_pickle(DATASET_PATH+\"irish_aggregated_dataset.pkl\")"
   ]
  },
  {
   "cell_type": "code",
   "execution_count": 15,
   "metadata": {},
   "outputs": [
    {
     "data": {
      "text/html": [
       "<div>\n",
       "<style scoped>\n",
       "    .dataframe tbody tr th:only-of-type {\n",
       "        vertical-align: middle;\n",
       "    }\n",
       "\n",
       "    .dataframe tbody tr th {\n",
       "        vertical-align: top;\n",
       "    }\n",
       "\n",
       "    .dataframe thead th {\n",
       "        text-align: right;\n",
       "    }\n",
       "</style>\n",
       "<table border=\"1\" class=\"dataframe\">\n",
       "  <thead>\n",
       "    <tr style=\"text-align: right;\">\n",
       "      <th></th>\n",
       "      <th>id</th>\n",
       "      <th>date</th>\n",
       "      <th>power</th>\n",
       "    </tr>\n",
       "  </thead>\n",
       "  <tbody>\n",
       "    <tr>\n",
       "      <th>3307944</th>\n",
       "      <td>7444</td>\n",
       "      <td>2010-10-14</td>\n",
       "      <td>[0.7715000000000001, 0.2835, 0.229499999999999...</td>\n",
       "    </tr>\n",
       "    <tr>\n",
       "      <th>3307945</th>\n",
       "      <td>7444</td>\n",
       "      <td>2010-10-15</td>\n",
       "      <td>[0.35650000000000004, 0.3285, 0.2275, 0.208500...</td>\n",
       "    </tr>\n",
       "    <tr>\n",
       "      <th>3307946</th>\n",
       "      <td>7444</td>\n",
       "      <td>2010-10-16</td>\n",
       "      <td>[0.491, 0.5035000000000001, 0.4835000000000000...</td>\n",
       "    </tr>\n",
       "    <tr>\n",
       "      <th>3307947</th>\n",
       "      <td>7444</td>\n",
       "      <td>2010-10-17</td>\n",
       "      <td>[0.3305, 0.38549999999999995, 0.382, 0.241, 0....</td>\n",
       "    </tr>\n",
       "    <tr>\n",
       "      <th>3307948</th>\n",
       "      <td>7444</td>\n",
       "      <td>2010-10-18</td>\n",
       "      <td>[1.003]</td>\n",
       "    </tr>\n",
       "  </tbody>\n",
       "</table>\n",
       "</div>"
      ],
      "text/plain": [
       "           id       date                                              power\n",
       "3307944  7444 2010-10-14  [0.7715000000000001, 0.2835, 0.229499999999999...\n",
       "3307945  7444 2010-10-15  [0.35650000000000004, 0.3285, 0.2275, 0.208500...\n",
       "3307946  7444 2010-10-16  [0.491, 0.5035000000000001, 0.4835000000000000...\n",
       "3307947  7444 2010-10-17  [0.3305, 0.38549999999999995, 0.382, 0.241, 0....\n",
       "3307948  7444 2010-10-18                                            [1.003]"
      ]
     },
     "execution_count": 15,
     "metadata": {},
     "output_type": "execute_result"
    }
   ],
   "source": [
    "# other\n",
    "\n",
    "# len(aggregated_dataset.iloc[10][2])\n",
    "# aggregated_dataset.id.nunique()#.nunique()\n",
    "# a.to_csv(DATASET_PATH+\"irish_ids.csv\")\n",
    "# m=aggregated_dataset\n",
    "# m.id = m.id.astype(int)\n",
    "# aggregated_dataset.tail()"
   ]
  },
  {
   "cell_type": "code",
   "execution_count": null,
   "metadata": {},
   "outputs": [],
   "source": []
  }
 ],
 "metadata": {
  "kernelspec": {
   "display_name": "Python 3",
   "language": "python",
   "name": "python3"
  },
  "language_info": {
   "codemirror_mode": {
    "name": "ipython",
    "version": 3
   },
   "file_extension": ".py",
   "mimetype": "text/x-python",
   "name": "python",
   "nbconvert_exporter": "python",
   "pygments_lexer": "ipython3",
   "version": "3.6.1"
  },
  "toc": {
   "base_numbering": 1,
   "nav_menu": {},
   "number_sections": true,
   "sideBar": true,
   "skip_h1_title": true,
   "title_cell": "Table of Contents",
   "title_sidebar": "Contents",
   "toc_cell": false,
   "toc_position": {},
   "toc_section_display": true,
   "toc_window_display": false
  }
 },
 "nbformat": 4,
 "nbformat_minor": 4
}
