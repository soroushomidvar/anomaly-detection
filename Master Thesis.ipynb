{
 "cells": [
  {
   "cell_type": "markdown",
   "metadata": {
    "colab_type": "text",
    "id": "vge79PtGqKo8"
   },
   "source": [
    "# **Imports and Constants**"
   ]
  },
  {
   "cell_type": "code",
   "execution_count": 1,
   "metadata": {
    "colab": {},
    "colab_type": "code",
    "id": "oqqSvu5q0ft_"
   },
   "outputs": [],
   "source": [
    "#imports\n",
    "from __future__ import print_function\n",
    "from pyspark import SparkContext\n",
    "from pyspark.ml.clustering import KMeans\n",
    "from pyspark.ml.evaluation import ClusteringEvaluator\n",
    "from pyspark.ml.feature import VectorAssembler\n",
    "from pyspark.sql import SQLContext\n",
    "from pyspark.sql import SparkSession\n",
    "from mpl_toolkits.mplot3d import Axes3D\n",
    "from pyspark.sql.functions import col\n",
    "from functools import reduce\n",
    "from pyspark import SQLContext\n",
    "from pyspark.sql import SparkSession\n",
    "from pyspark.sql.types import ArrayType, IntegerType\n",
    "from pyspark.sql.functions import col, split, size, isnan, array_contains, array_min, when, count\n",
    "from pyspark.sql.types import StructType, StructField, TimestampType, StringType, FloatType\n",
    "import pyspark.sql.functions as f\n",
    "import matplotlib.pyplot as plt\n",
    "import pandas as pd \n",
    "import glob\n",
    "import re\n",
    "import pathlib\n",
    "import json\n",
    "import datetime\n",
    "import numpy as np\n",
    "import time\n",
    "import os\n",
    "import random\n",
    "import statistics"
   ]
  },
  {
   "cell_type": "code",
   "execution_count": 2,
   "metadata": {},
   "outputs": [],
   "source": [
    "#paths\n",
    "DATASET_PATH='/Users/Soroush/Desktop/Thesis/Code/dataset/'\n",
    "\n",
    "#from google.colab import drive\n",
    "#drive.mount('/gdrive')"
   ]
  },
  {
   "cell_type": "markdown",
   "metadata": {
    "colab_type": "text",
    "id": "vge79PtGqKo8"
   },
   "source": [
    "# **Install spark**"
   ]
  },
  {
   "cell_type": "code",
   "execution_count": null,
   "metadata": {
    "colab": {},
    "colab_type": "code",
    "id": "dfe7HgRpv5kg"
   },
   "outputs": [],
   "source": [
    "# Install spark and dependencies\n",
    "!apt-get install openjdk-8-jdk-headless -qq > /dev/null\n",
    "!wget -q http://mirror.its.dal.ca/apache/spark/spark-2.4.5/spark-2.4.5-bin-hadoop2.7.tgz #or any other version\n",
    "!tar xvf spark-2.4.5-bin-hadoop2.7.tgz #based on version\n",
    "!pip install -q findspark\n",
    "\n",
    "# Set up required environment variables\n",
    "import os\n",
    "os.environ[\"JAVA_HOME\"] = \"/usr/lib/jvm/java-8-openjdk-amd64\"\n",
    "os.environ[\"SPARK_HOME\"] = \"/content/spark-2.4.5-bin-hadoop2.7\" #based on version\n",
    "\n",
    "#imports\n",
    "import findspark\n",
    "findspark.init()\n",
    "import pyspark # Call this only after findspark.init()\n",
    "from pyspark.context import SparkContext\n",
    "from pyspark.sql.session import SparkSession\n",
    "\n",
    "#test\n",
    "sc = SparkContext.getOrCreate()\n",
    "spark = SparkSession(sc)\n",
    "file_loc = './sample_data/california_housing_train.csv'\n",
    "df = spark.read.csv(file_loc, inferSchema=True, header =True)\n",
    "df.show()"
   ]
  },
  {
   "cell_type": "markdown",
   "metadata": {
    "colab_type": "text",
    "id": "5DiwZdhIqSyU"
   },
   "source": [
    "# **Load/Save Dataset**"
   ]
  },
  {
   "cell_type": "code",
   "execution_count": 3,
   "metadata": {
    "colab": {},
    "colab_type": "code",
    "id": "xTz4gxgr6JqK"
   },
   "outputs": [],
   "source": [
    "#load and save .read_pickle() and .to_pickle() \n",
    "\n",
    "#save\n",
    "\n",
    "#dataset.to_pickle(DATASET_PATH+\"dataset.pkl\")\n",
    "#aggregated_dataset.to_pickle(DATASET_PATH+\"aggregated_dataset.pkl\")\n",
    "#json_dataset.to_pickle(DATASET_PATH+\"json_dataset.pkl\")\n",
    "#dataset.to_csv(DATASET_PATH+\"dataset.csv\")\n",
    "#aggregated_dataset.to_csv(DATASET_PATH+\"aggregated_dataset.csv\")\n",
    "#json_dataset.to_csv(DATASET_PATH+\"json_dataset.csv\")\n",
    "#aggregated_dataset_rowBased.to_csv(DATASET_PATH+\"aggregated_dataset_rowBased.csv\")\n",
    "\n",
    "\n",
    "#load\n",
    "\n",
    "dataset=pd.read_pickle(DATASET_PATH+\"dataset.pkl\")\n",
    "aggregated_dataset=pd.read_pickle(DATASET_PATH+\"aggregated_dataset.pkl\")\n",
    "json_dataset=pd.read_pickle(DATASET_PATH+\"json_dataset.pkl\")\n"
   ]
  },
  {
   "cell_type": "markdown",
   "metadata": {
    "colab_type": "text",
    "id": "QPCWDW60rgQT"
   },
   "source": [
    "# **Preprocessing (for Smart* Dataset)**"
   ]
  },
  {
   "cell_type": "code",
   "execution_count": null,
   "metadata": {
    "colab": {
     "base_uri": "https://localhost:8080/",
     "height": 34
    },
    "colab_type": "code",
    "executionInfo": {
     "elapsed": 864,
     "status": "ok",
     "timestamp": 1585581700927,
     "user": {
      "displayName": "Soroush Omidvar",
      "photoUrl": "https://lh3.googleusercontent.com/a-/AOh14GjRgg64DA6c5195gG8XeYVCDkEbhnmqzeG9RSnqaQ=s64",
      "userId": "04227658996805655790"
     },
     "user_tz": -270
    },
    "id": "cmQMS3_4zUbv",
    "outputId": "6b49e8db-9c01-48e3-8a21-b4b1d3b27155"
   },
   "outputs": [],
   "source": [
    "#create appropriate dataset\n",
    "\n",
    "# dataset address: http://traces.cs.umass.edu/index.php/Smart/Smart\n",
    "\n",
    "#Extract File\n",
    "#import tarfile\n",
    "#!tar -xf '/gdrive/My Drive/a.gzip' -C '/gdrive/My Drive/'\n",
    "\n",
    "#load\n",
    "\n",
    "def load_smart_star_dataset(dataset_path): \n",
    "    \n",
    "    #length of file path\n",
    "    LENGTH=len(dataset_path)+5\n",
    "\n",
    "    df_merged = pd.DataFrame(columns=['date'])\n",
    "    \n",
    "    # 2014\n",
    "    #path_2014 = r'/gdrive/My Drive/Dataset/apartment/2014'\n",
    "    path_2014= dataset_path+'2014'\n",
    "    all_2014_paths = glob.glob(path_2014 + \"/Apt*.csv\")\n",
    "    df_merged_2014 = pd.DataFrame(columns=['date'])\n",
    "    for file_name in all_2014_paths:\n",
    "        column_name = file_name[LENGTH:-9]\n",
    "        # column_name = file_name.replace(\"dataset/2014/\", \"\").replace(\"_2014.csv\",\"\")\n",
    "        df = pd.read_csv(file_name, names=[\"date\", column_name])\n",
    "        df_merged_2014 = pd.merge(df_merged_2014, df, on='date', how='outer', left_index=True, right_index=True)\n",
    "    \n",
    "    # 2015\n",
    "    df_merged_2015 = pd.DataFrame(columns=['date'])\n",
    "    #path_2015 = r'/gdrive/My Drive/Dataset/apartment/2015'\n",
    "    path_2015= dataset_path+'2015'\n",
    "    all_2015_paths = glob.glob(path_2015 + \"/Apt*.csv\")\n",
    "    for file_name in all_2015_paths:\n",
    "        column_name = file_name[LENGTH:-9]\n",
    "        # column_name = file_name.replace(\"dataset/2015/\", \"\").replace(\"_2015.csv\",\"\")\n",
    "        df = pd.read_csv(file_name, names=[\"date\", column_name])\n",
    "        df_merged_2015 = pd.merge(df_merged_2015, df, on='date', how='outer', left_index=True, right_index=True)\n",
    "    \n",
    "    # 2016\n",
    "    df_merged_2016 = pd.DataFrame(columns=['date'])\n",
    "    #path_2016 = r'/gdrive/My Drive/Dataset/apartment/2016'\n",
    "    path_2016= dataset_path+'2016'\n",
    "    all_2016_paths = glob.glob(path_2016 + \"/Apt*.csv\")\n",
    "    for file_name in all_2016_paths:\n",
    "        column_name = file_name[LENGTH:-9]\n",
    "        # column_name = file_name.replace(\"dataset/2016/\", \"\").replace(\"_2016.csv\",\"\")\n",
    "        df = pd.read_csv(file_name, names=[\"date\", column_name])\n",
    "        df_merged_2016 = pd.merge(df_merged_2016, df, on='date', how='outer', left_index=True, right_index=True)\n",
    "    \n",
    "    # merge all years\n",
    "    df_merged = df_merged_2014.append(df_merged_2015, ignore_index=True).append(df_merged_2016, ignore_index=True)\n",
    "    final = df_merged\n",
    "    #save\n",
    "    return final"
   ]
  },
  {
   "cell_type": "code",
   "execution_count": null,
   "metadata": {
    "colab": {},
    "colab_type": "code",
    "id": "gkkOLNk0a04X"
   },
   "outputs": [],
   "source": [
    "#aggregate data\n",
    "\n",
    "def agg_by_date(final):\n",
    "    final['date'] = pd.to_datetime(final['date'],)\n",
    "    final.index=final['date']\n",
    "\n",
    "    final_agg_by_hour = final.resample('60T').sum(min_count=1)  #for more than to NaN : .apply(lambda x: x.sum() if x.isnull().sum() <= 2 else np.nan)\n",
    "\n",
    "    final = final_agg_by_hour.resample('D').aggregate(lambda x: x.tolist()) # for tuple: .aggregate(lambda x: tuple(x))\n",
    "\n",
    "    #remove first and last row\n",
    "    #aggregated_dataset.drop(pd.to_datetime('2016-12-28'),inplace=True)\n",
    "    #aggregated_dataset.drop(pd.to_datetime('2014-10-15'),inplace=True)\n",
    "    #final=final.iloc[1:-1]\n",
    "\n",
    "    return final"
   ]
  },
  {
   "cell_type": "code",
   "execution_count": null,
   "metadata": {},
   "outputs": [],
   "source": [
    "#convert column_based df to row_based\n",
    "\n",
    "def col_to_row(df):\n",
    "    #house_id=df.columns\n",
    "    df.reset_index(inplace=True)\n",
    "    return pd.melt(df, id_vars=['date'],value_name='power')\n",
    "\n",
    "#aggregated_dataset=pd.read_pickle(DATASET_PATH+\"aggregated_dataset.pkl\")\n",
    "#aggregated_dataset_rowBased=col_to_row(aggregated_dataset)\n",
    "#aggregated_dataset_rowBased.sort_values(['date', 'variable'], ascending=[True, True],inplace=True)"
   ]
  },
  {
   "cell_type": "code",
   "execution_count": null,
   "metadata": {
    "colab": {},
    "colab_type": "code",
    "id": "Fc_QASHrxmQ2",
    "scrolled": true
   },
   "outputs": [],
   "source": [
    "#create dataset\n",
    "dataset = load_smart_star_dataset(DATASET_PATH)\n",
    "\n",
    "#aggregate by date\n",
    "aggregated_dataset=agg_by_date(dataset)\n",
    "aggregated_dataset=aggregated_dataset[1:-1]\n",
    "\n",
    "#to json\n",
    "json_dataset=to_json(aggregated_dataset)"
   ]
  },
  {
   "cell_type": "markdown",
   "metadata": {
    "colab_type": "text",
    "id": "sx4ORKJlZiHa"
   },
   "source": [
    "# **Model**"
   ]
  },
  {
   "cell_type": "code",
   "execution_count": 4,
   "metadata": {
    "colab": {},
    "colab_type": "code",
    "id": "p9utJRS41p5X"
   },
   "outputs": [],
   "source": [
    "#create SparkSession\n",
    "spark = SparkSession.builder.appName(\"anomaly_detection\").master(\"local[2]\").getOrCreate()\n",
    "\n",
    "#define schema\n",
    "schema = StructType([\n",
    "    StructField(\"#\", IntegerType()),\n",
    "    StructField(\"date\", TimestampType()),\n",
    "    StructField(\"id\", StringType()),\n",
    "    StructField(\"power\", StringType())])\n",
    "\n",
    "#read data\n",
    "sdf = spark.read.format('csv').options(header='true',inferSchema=True ,schema=schema).load(DATASET_PATH+\"aggregated_dataset_rowBased.csv\")\n",
    "\n",
    "#rename columns\n",
    "def rename_dataframe(sdf):\n",
    "    names = ['#','date','id','power']\n",
    "    for c,n in zip(sdf.columns,names):\n",
    "        sdf=sdf.withColumnRenamed(c,n)\n",
    "    return sdf\n",
    "    \n",
    "sdf=rename_dataframe(sdf)\n",
    "#sdf.show()\n",
    "    \n",
    "#convert power to array\n",
    "def string_power_to_array(sdf):\n",
    "    temp=sdf.withColumn(\"power\", f.regexp_replace(f.regexp_replace(f.col(\"power\"), \"\\\\[\", \"\"),\"\\\\]\",\"\")\n",
    "                        .alias(\"power\"))\n",
    "    temp=temp.withColumn(\"power\",split(col(\"power\"), \",\\s*\")\n",
    "                        .cast(ArrayType(FloatType())).alias(\"power\"))\n",
    "    return temp\n",
    "\n",
    "sdf=string_power_to_array(sdf)\n",
    "#sdf.show()\n",
    "\n",
    "#add validation column\n",
    "def add_validation_column(sdf):\n",
    "    v=True\n",
    "    temp=sdf.withColumn(\"V\",f.when((size(sdf.power)==24) #array size\n",
    "                                   & ~(f.array_contains(sdf.power, float('nan'))) #containing NaN\n",
    "                                   & ~(f.array_max(sdf.power)<=0) #all 0\n",
    "                                   , True).otherwise(False))\n",
    "    return temp\n",
    "\n",
    "#sdf=add_validation_column(sdf)\n",
    "#sdf.show()\n",
    "\n",
    "\n",
    "def split_power(sdf):\n",
    "    temp=sdf.select(\"#\",\"date\",\"id\",\n",
    "           sdf.power[0].alias(\"H0\"), sdf.power[1].alias(\"H1\"), sdf.power[2].alias(\"H2\"),sdf.power[3].alias(\"H3\"),\n",
    "           sdf.power[4].alias(\"H4\"), sdf.power[5].alias(\"H5\"), sdf.power[6].alias(\"H6\"),sdf.power[7].alias(\"H7\"),\n",
    "           sdf.power[8].alias(\"H8\"), sdf.power[9].alias(\"H9\"), sdf.power[10].alias(\"H10\"),sdf.power[11].alias(\"H11\"),\n",
    "           sdf.power[12].alias(\"H12\"), sdf.power[13].alias(\"H13\"), sdf.power[14].alias(\"H14\"),sdf.power[15].alias(\"H15\"),\n",
    "           sdf.power[16].alias(\"H16\"), sdf.power[17].alias(\"H17\"), sdf.power[18].alias(\"H18\"),sdf.power[19].alias(\"H19\"),\n",
    "           sdf.power[20].alias(\"H20\"), sdf.power[21].alias(\"H21\"), sdf.power[22].alias(\"H22\"),sdf.power[23].alias(\"H23\"))\n",
    "    return temp\n",
    "    \n",
    "#split_sdf=split_power(sdf)\n",
    "#split_sdf.show()\n",
    "#split_sdf=add_validation_column(split_sdf)\n"
   ]
  },
  {
   "cell_type": "code",
   "execution_count": 5,
   "metadata": {},
   "outputs": [],
   "source": [
    "def prepare_for_kmeans(sdf): \n",
    "    \n",
    "    temp=sdf\n",
    "    \n",
    "    #define function for validation\n",
    "    def add_validation_column(sdf):\n",
    "        v=True\n",
    "        temp=sdf.withColumn(\"V\",f.when((size(sdf.power)==24) #array size\n",
    "                                   & ~(f.array_contains(sdf.power, float('nan'))) #containing NaN\n",
    "                                   & ~(f.array_max(sdf.power)<=0) #all 0\n",
    "                                   , True).otherwise(False))\n",
    "        return temp\n",
    "\n",
    "    #call the split_power function\n",
    "    temp=add_validation_column(temp)\n",
    "    \n",
    "    #define function for split power column\n",
    "    def split_power(sdf):\n",
    "        temp=sdf.select(\"#\",\"V\",\"date\",\"id\",\n",
    "           sdf.power[0].alias(\"H0\"), sdf.power[1].alias(\"H1\"), sdf.power[2].alias(\"H2\"),sdf.power[3].alias(\"H3\"),\n",
    "           sdf.power[4].alias(\"H4\"), sdf.power[5].alias(\"H5\"), sdf.power[6].alias(\"H6\"),sdf.power[7].alias(\"H7\"),\n",
    "           sdf.power[8].alias(\"H8\"), sdf.power[9].alias(\"H9\"), sdf.power[10].alias(\"H10\"),sdf.power[11].alias(\"H11\"),\n",
    "           sdf.power[12].alias(\"H12\"), sdf.power[13].alias(\"H13\"), sdf.power[14].alias(\"H14\"),sdf.power[15].alias(\"H15\"),\n",
    "           sdf.power[16].alias(\"H16\"), sdf.power[17].alias(\"H17\"), sdf.power[18].alias(\"H18\"),sdf.power[19].alias(\"H19\"),\n",
    "           sdf.power[20].alias(\"H20\"), sdf.power[21].alias(\"H21\"), sdf.power[22].alias(\"H22\"),sdf.power[23].alias(\"H23\"))\n",
    "        return temp\n",
    "    \n",
    "    #call the split_power function\n",
    "    temp=split_power(temp)\n",
    "    \n",
    "    #filter date\n",
    "    temp=temp.filter(temp.date > \"2014-08-15\").filter(temp.date < \"2014-08-19\") \n",
    "    \n",
    "    #filter valid rows\n",
    "    temp=temp.filter(temp.V==True)\n",
    "    \n",
    "    FEATURES = ['H0', 'H1', 'H2','H3', 'H4', 'H5','H6', 'H7', 'H8','H9', 'H10', 'H11',\n",
    "            'H12', 'H13', 'H14','H15', 'H16', 'H17','H18', 'H19', 'H20','H21', 'H22', 'H23']\n",
    "    \n",
    "    #make ready\n",
    "    vecAssembler = VectorAssembler(inputCols=FEATURES, outputCol=\"features\")\n",
    "    df_kmeans = vecAssembler.transform(temp).select('id', 'features')\n",
    "    return df_kmeans\n",
    "\n"
   ]
  },
  {
   "cell_type": "code",
   "execution_count": 6,
   "metadata": {},
   "outputs": [
    {
     "name": "stdout",
     "output_type": "stream",
     "text": [
      "+------+--------------------+\n",
      "|    id|            features|\n",
      "+------+--------------------+\n",
      "| Apt36|[1.96932005882263...|\n",
      "| Apt36|[0.61410224437713...|\n",
      "| Apt36|[1.37804222106933...|\n",
      "| Apt36|[1.16347885131835...|\n",
      "| Apt37|[2.35953211784362...|\n",
      "| Apt37|[4.40217113494873...|\n",
      "| Apt37|[2.70866441726684...|\n",
      "| Apt37|[4.42925310134887...|\n",
      "| Apt40|[1.71935439109802...|\n",
      "| Apt40|[5.16754436492919...|\n",
      "| Apt40|[10.3177185058593...|\n",
      "| Apt40|[5.52604532241821...|\n",
      "|Apt105|[3.02236342430114...|\n",
      "|Apt105|[3.41390442848205...|\n",
      "|Apt105|[2.79135322570800...|\n",
      "|Apt105|[2.98783564567565...|\n",
      "| Apt75|(24,[18],[0.00162...|\n",
      "| Apt75|(24,[10],[0.00162...|\n",
      "| Apt74|[4.72036647796630...|\n",
      "| Apt91|[1.07712554931640...|\n",
      "+------+--------------------+\n",
      "only showing top 20 rows\n",
      "\n",
      "133\n",
      "root\n",
      " |-- id: string (nullable = true)\n",
      " |-- features: vector (nullable = true)\n",
      "\n",
      "Silhouette with squared euclidean distance = 0.33884694671053045\n",
      "Cluster Centers: \n",
      "[ 7.56248801 11.34643051  9.02241417  7.9526375   7.4155505   6.76336997\n",
      "  5.90136327  5.18230506  5.53524324  4.94643     4.76197267  6.8338807\n",
      "  6.28153944  5.65356752  6.79997512  6.05969395  7.82064363  6.89053338\n",
      "  7.4090316  11.08758524  7.98142692 12.06632192 10.72135353  7.32593158]\n",
      "[0.38846579 0.43036339 0.56275111 0.49804283 0.56777081 0.45118579\n",
      " 0.55334713 0.35125702 0.36498861 0.49071341 0.44882303 0.38345982\n",
      " 0.40414452 0.36388246 0.27645326 0.46016046 0.3911279  0.5916344\n",
      " 0.44655683 0.39145573 0.34543349 0.3955554  0.592562   0.40258353]\n",
      "[ 6.46208767  7.42523272  5.65364879  4.78187723  5.2862589   5.72627333\n",
      "  6.08077965  7.14459433  5.78253971  6.84007883  6.96283986  6.49160368\n",
      "  6.0950161   7.86395826  5.58414997  7.54337515  7.63841227 10.12093319\n",
      " 12.97012111  7.38440187  6.99085583  5.25076577  6.18151563  5.31420224]\n",
      "[2.9710933  2.59456398 3.55677282 3.40512861 2.38761318 2.47045269\n",
      " 2.16206504 2.70086948 2.38256046 3.12114711 3.06375586 3.15479062\n",
      " 4.07065953 4.84932911 5.5860998  4.62166249 4.11542029 4.64233323\n",
      " 3.49399751 3.82740259 4.74302161 4.47149635 3.747111   4.1654596 ]\n",
      "[7.31496365 5.78781067 7.45312375 6.08098898 6.29825893 6.74035933\n",
      " 5.24040998 5.06886768 5.23119987 5.73323452 5.93600143 6.98586275\n",
      " 6.43433963 5.76933466 5.48263812 5.15333162 4.93363493 4.32441525\n",
      " 4.34492448 4.02681335 6.05103699 4.98723927 5.18003483 4.42291304]\n",
      "[2.67208014 2.91224832 3.3361901  3.07423233 2.80490967 3.00605116\n",
      " 2.81707949 2.37695856 2.7049809  2.74460522 3.16424752 2.52269838\n",
      " 2.34446322 2.96101127 2.73585752 3.12647333 2.8072628  2.03174074\n",
      " 1.83030246 2.04414134 2.5306964  1.54353803 1.5902751  1.77370531]\n",
      "[Row(id='Apt36', prediction=1), Row(id='Apt36', prediction=1), Row(id='Apt36', prediction=5)]\n"
     ]
    },
    {
     "data": {
      "image/png": "[encoded data removed]",
      "text/plain": [
       "<Figure size 576x432 with 1 Axes>"
      ]
     },
     "metadata": {
      "needs_background": "light"
     },
     "output_type": "display_data"
    }
   ],
   "source": [
    "#run k-means\n",
    "\n",
    "# Loads data\n",
    "sdf_kmeans=prepare_for_kmeans(sdf)\n",
    "\n",
    "#show data\n",
    "sdf_kmeans.show()\n",
    "print(sdf_kmeans.count())\n",
    "sdf_kmeans.printSchema()\n",
    "\n",
    "#find best k\n",
    "MAX_k=20\n",
    "cost = np.zeros(MAX_k)\n",
    "for k in range(2,MAX_k):\n",
    "    kmeans = KMeans().setK(k).setSeed(1)\n",
    "    model = kmeans.fit(sdf_kmeans)\n",
    "    cost[k] = model.computeCost(sdf_kmeans) # requires Spark 2.0 or later\n",
    "    \n",
    "#show best k\n",
    "fig, ax = plt.subplots(1,1, figsize =(8,6))\n",
    "ax.plot(range(2,MAX_k),cost[2:MAX_k])\n",
    "ax.set_xlabel('k')\n",
    "ax.set_ylabel('cost')\n",
    "\n",
    "# Trains a k-means model.\n",
    "kmeans = KMeans().setK(6).setSeed(1)\n",
    "model = kmeans.fit(sdf_kmeans)\n",
    "\n",
    "# Make predictions\n",
    "predictions = model.transform(sdf_kmeans)\n",
    "\n",
    "# Evaluate clustering by computing Silhouette score\n",
    "evaluator = ClusteringEvaluator()\n",
    "\n",
    "silhouette = evaluator.evaluate(predictions)\n",
    "print(\"Silhouette with squared euclidean distance = \" + str(silhouette))\n",
    "\n",
    "# Shows the result.\n",
    "centers = model.clusterCenters()\n",
    "print(\"Cluster Centers: \")\n",
    "for center in centers:\n",
    "    print(center)\n",
    "\n",
    "transformed = model.transform(sdf_kmeans).select('id', 'prediction')\n",
    "rows = transformed.collect() \n",
    "print(rows[:3])\n",
    "#prediction = spark.createDataFrame(rows)\n",
    "#prediction.show()"
   ]
  },
  {
   "cell_type": "markdown",
   "metadata": {
    "colab_type": "text",
    "id": "nZey1SXJxkVl"
   },
   "source": [
    "# **Malicious Samples**"
   ]
  },
  {
   "cell_type": "code",
   "execution_count": 75,
   "metadata": {},
   "outputs": [],
   "source": [
    "# Generate malicious samples\n",
    "def h1(x):\n",
    "    MAX=0.8\n",
    "    MIN=0.1\n",
    "    alpha=random.uniform(MIN,MAX)\n",
    "    temp=np.array(x)\n",
    "    return (temp*alpha).tolist()\n",
    "\n",
    "def h2(x):\n",
    "    MIN_OFF=4 # hour\n",
    "    DURATION=random.randint(MIN_OFF,24)\n",
    "    START=random.randint(0,23-DURATION) if DURATION!=23 else 0\n",
    "    END=START+DURATION\n",
    "    temp=np.array(x)\n",
    "    temp[START:END]=0\n",
    "    return temp.tolist()\n",
    "    \n",
    "def h3(x):\n",
    "    MAX=0.8\n",
    "    MIN=0.1\n",
    "    temp=[]\n",
    "    for i in range(len(x)):\n",
    "        temp.append(x[i]*random.uniform(MIN,MAX))\n",
    "    return temp\n",
    "\n",
    "def h4(x):\n",
    "    MAX=0.8\n",
    "    MIN=0.1\n",
    "    mean=statistics.mean(x)\n",
    "    temp=[]\n",
    "    for i in range(len(x)):\n",
    "        temp.append(mean*random.uniform(MIN,MAX))\n",
    "    return temp\n",
    "\n",
    "def h5(x):\n",
    "    MAX=0.8\n",
    "    MIN=0.1\n",
    "    mean=statistics.mean(x)\n",
    "    temp=[]\n",
    "    for i in range(len(x)):\n",
    "        temp.append(mean)\n",
    "    return temp\n",
    "\n",
    "def h6(x):\n",
    "    temp=np.array(x)\n",
    "    #temp=temp[::-1] \n",
    "    temp=np.flipud(temp) \n",
    "    return temp"
   ]
  },
  {
   "cell_type": "code",
   "execution_count": 76,
   "metadata": {},
   "outputs": [
    {
     "data": {
      "image/png": "[encoded data removed]",
      "text/plain": [
       "<Figure size 1120x720 with 1 Axes>"
      ]
     },
     "metadata": {},
     "output_type": "display_data"
    }
   ],
   "source": [
    "#plot\n",
    "read_value=[96.00396728515625, 68.20671844482422, 96.05184936523438, 81.24053192138672, 107.14600372314453, 85.7899169921875, 100.9619140625, 181.16192626953125, 122.7833023071289, 119.53163146972656, 107.34815216064453, 108.99268341064453, 139.76922607421875, 97.21031951904297, 118.4515151977539, 99.15070343017578, 85.47505187988281, 81.51718139648438, 232.91493225097656, 82.83419799804688, 108.6827163696289, 95.99102020263672, 90.59868621826172, 85.60449981689453]\n",
    "lists=[]\n",
    "colors=['b','r-','g--','c:','m-.','y-','k--']\n",
    "lists.append(read_value)\n",
    "lists.append(h1(read_value))\n",
    "lists.append(h2(read_value))\n",
    "lists.append(h3(read_value))\n",
    "lists.append(h4(read_value))\n",
    "lists.append(h5(read_value))\n",
    "lists.append(h6(read_value))\n",
    "plt.figure(num=None, figsize=(14, 9), dpi=80, facecolor='w', edgecolor='k')\n",
    "plt.xlabel(\"Hour\")\n",
    "plt.ylabel(\"Power\")\n",
    "plt.title(\"malicious samples\")\n",
    "plt.plot(read_value)\n",
    "for i in range(len(lists)):\n",
    "    plt.plot(lists[i],colors[i],label = 'H %s'%i)\n",
    "plt.legend()\n",
    "plt.show()"
   ]
  },
  {
   "cell_type": "markdown",
   "metadata": {
    "colab_type": "text",
    "id": "nZey1SXJxkVl"
   },
   "source": [
    "# **MAIN**"
   ]
  },
  {
   "cell_type": "code",
   "execution_count": null,
   "metadata": {},
   "outputs": [],
   "source": []
  },
  {
   "cell_type": "code",
   "execution_count": null,
   "metadata": {},
   "outputs": [],
   "source": []
  },
  {
   "cell_type": "code",
   "execution_count": null,
   "metadata": {},
   "outputs": [],
   "source": []
  },
  {
   "cell_type": "code",
   "execution_count": null,
   "metadata": {},
   "outputs": [],
   "source": []
  },
  {
   "cell_type": "markdown",
   "metadata": {
    "colab_type": "text",
    "id": "nZey1SXJxkVl"
   },
   "source": [
    "# **TEST**"
   ]
  },
  {
   "cell_type": "code",
   "execution_count": null,
   "metadata": {},
   "outputs": [],
   "source": [
    "rows = transformed.collect() \n",
    "spark.createDataFrame(rows, IntegerType()).show()\n",
    "#print(rows[:3])\n",
    "#p = spark.createDataFrame(rows)\n",
    "#p.show()\n",
    "#df_pred = df_pred.join(df, 'id')\n",
    "#df_pred.show()"
   ]
  },
  {
   "cell_type": "code",
   "execution_count": null,
   "metadata": {},
   "outputs": [],
   "source": []
  },
  {
   "cell_type": "code",
   "execution_count": null,
   "metadata": {},
   "outputs": [],
   "source": []
  },
  {
   "cell_type": "code",
   "execution_count": null,
   "metadata": {},
   "outputs": [],
   "source": []
  },
  {
   "cell_type": "code",
   "execution_count": null,
   "metadata": {},
   "outputs": [],
   "source": []
  },
  {
   "cell_type": "markdown",
   "metadata": {
    "colab_type": "text",
    "id": "vge79PtGqKo8"
   },
   "source": [
    "# **Other**"
   ]
  },
  {
   "cell_type": "code",
   "execution_count": null,
   "metadata": {
    "colab": {},
    "colab_type": "code",
    "id": "7xLMPlUJW_cn"
   },
   "outputs": [],
   "source": [
    "#create json data from stored dataframe\n",
    "\n",
    "def to_json(final):\n",
    "    PERIOD=60\n",
    "\n",
    "    data_for_json=final.loc[:, final.columns != 'date']\n",
    "\n",
    "    def date_to_str(o):\n",
    "        if isinstance(o, datetime.datetime):\n",
    "            return o.__str__()\n",
    "\n",
    "    json_dataframe = pd.DataFrame(columns=['data']) #creates a new dataframe that's empty\n",
    "    L  = []\n",
    "\n",
    "    import json\n",
    "    import datetime\n",
    "    import time\n",
    "\n",
    "    r, c = data_for_json.shape\n",
    "    for i in range(0, r):\n",
    "        for j in range(0, c):\n",
    "            data = {}\n",
    "            data['id'] = data_for_json.columns.values[j]\n",
    "            data['power'] = data_for_json.iloc[i][j]\n",
    "            data['date']=data_for_json.index.tolist()[i]\n",
    "            json_data = json.dumps(data,default=date_to_str)\n",
    "            L.append(json_data)\n",
    "            #json_dataframe=json_dataframe.append(json_data,ignore_index=True)\n",
    "\n",
    "    json_dataframe = pd.DataFrame(L, columns=['data'])\n",
    "    return json_dataframe"
   ]
  },
  {
   "cell_type": "code",
   "execution_count": null,
   "metadata": {},
   "outputs": [],
   "source": [
    "#load by schema\n",
    "\n",
    "schema = StructType([\n",
    "  StructField(\"num\", IntegerType()),\n",
    "    StructField(\"date\", TimestampType()),\n",
    "    StructField(\"id\", StringType()),\n",
    "  StructField(\"power\", ArrayType(\n",
    "      StructType([\n",
    "          StructField(\"H0\", FloatType(), True),\n",
    "          StructField(\"H1\", FloatType(), True),\n",
    "          StructField(\"H2\", FloatType(), True),\n",
    "          StructField(\"H3\", FloatType(), True),\n",
    "          StructField(\"H4\", FloatType(), True),\n",
    "          StructField(\"H5\", FloatType(), True),\n",
    "          StructField(\"H6\", FloatType(), True),\n",
    "          StructField(\"H7\", FloatType(), True),\n",
    "          StructField(\"H8\", FloatType(), True),\n",
    "          StructField(\"H9\", FloatType(), True),\n",
    "          StructField(\"H10\", FloatType(), True),\n",
    "          StructField(\"H11\", FloatType(), True),\n",
    "          StructField(\"H12\", FloatType(), True),\n",
    "          StructField(\"H13\", FloatType(), True),\n",
    "          StructField(\"H14\", FloatType(), True),\n",
    "          StructField(\"H15\", FloatType(), True),\n",
    "          StructField(\"H16\", FloatType(), True),\n",
    "          StructField(\"H17\", FloatType(), True),\n",
    "          StructField(\"H18\", FloatType(), True),\n",
    "          StructField(\"H19\", FloatType(), True),\n",
    "          StructField(\"H20\", FloatType(), True),\n",
    "          StructField(\"H21\", FloatType(), True),\n",
    "          StructField(\"H22\", FloatType(), True),\n",
    "          StructField(\"H23\", FloatType(), True)\n",
    "      ])\n",
    "   )\n",
    "             )])\n",
    "\n",
    "a = spark.read.format('csv').schema(schema).option(\"header\", \"true\").load(DATASET_PATH+\"f.csv\")\n",
    "a.show()"
   ]
  }
 ],
 "metadata": {
  "colab": {
   "authorship_tag": "ABX9TyMw6O+baIkYRsczOI9q7Cow",
   "collapsed_sections": [],
   "name": "Master Thesis.ipynb",
   "provenance": []
  },
  "kernelspec": {
   "display_name": "Python 3",
   "language": "python",
   "name": "python3"
  },
  "language_info": {
   "codemirror_mode": {
    "name": "ipython",
    "version": 3
   },
   "file_extension": ".py",
   "mimetype": "text/x-python",
   "name": "python",
   "nbconvert_exporter": "python",
   "pygments_lexer": "ipython3",
   "version": "3.6.1"
  }
 },
 "nbformat": 4,
 "nbformat_minor": 1
}
